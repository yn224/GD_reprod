{
 "cells": [
  {
   "cell_type": "code",
   "execution_count": 1,
   "metadata": {},
   "outputs": [],
   "source": [
    "import numpy as np\n",
    "import matplotlib.pyplot as plt\n",
    "import scipy.io\n",
    "import time\n",
    "from scipy.special import expit\n",
    "from sklearn.metrics import accuracy_score\n",
    "from sklearn.model_selection import train_test_split\n",
    "from tqdm import tqdm\n",
    "from sklearn.preprocessing import normalize\n",
    "from sklearn.metrics import mean_squared_error\n",
    "from sklearn.datasets import load_digits\n",
    "from algorithms import *\n",
    "plt.rcParams['figure.figsize'] = [8, 6]"
   ]
  },
  {
   "cell_type": "code",
   "execution_count": 2,
   "metadata": {},
   "outputs": [],
   "source": [
    "filename = 'YearPredictionMSD.txt'\n",
    "data = np.loadtxt(filename, delimiter=',', skiprows=1)\n",
    "y = data[:,0]\n",
    "y = y.reshape((len(y), 1))\n",
    "X = data[:,1:]"
   ]
  },
  {
   "cell_type": "code",
   "execution_count": 3,
   "metadata": {},
   "outputs": [],
   "source": [
    "def Linear_Regression_SGD(x, y, eta, K, L=0, q=None):\n",
    "    #Initialize weights and bias\n",
    "    b = 0\n",
    "    w = np.zeros([x.shape[1],1])\n",
    "    \n",
    "    costs = []\n",
    "    norm = []\n",
    "    y = y.reshape((len(y),1))\n",
    "    \n",
    "    #For each iteration\n",
    "    for k in tqdm(range(K), disable=tqdmSwitch):\n",
    "        \n",
    "        #Draw random sample with replacement\n",
    "        idx = np.random.randint(0,len(y))\n",
    "        xx = x[idx]\n",
    "        yy = y[idx]\n",
    "        \n",
    "        #Fixed learning rate\n",
    "        a = eta\n",
    "        #a = eta/np.sqrt(k+1)\n",
    "        \n",
    "        #Make prediction\n",
    "        y_pred = xx@w\n",
    "\n",
    "        #Update weights\n",
    "        grad = (xx*(y_pred-yy)).reshape((x.shape[1],1))\n",
    "        w = w - a*(grad + L*w)\n",
    "\n",
    "        #Compute cost\n",
    "        pred = x@w\n",
    "        #norm += [np.linalg.norm(grad)]\n",
    "        costs += [mean_squared_error(y, pred, squared=False)/x.shape[0]]\n",
    "        \n",
    "    if q != None:\n",
    "        q.put([w, b, np.array(costs)])\n",
    "        \n",
    "    return w, b, np.array(costs)\n",
    "\n",
    "def Linear_Regression_SAG(x, y, eta, K, L=0, q=None):\n",
    "    #Initialize weights and bias\n",
    "    b = 0\n",
    "    w = np.zeros([x.shape[1],1])\n",
    "    g = np.zeros((x.shape[0], x.shape[1],1)) #Gradient table\n",
    "    G = np.zeros_like(w) #Gradient table sum\n",
    "    idxs = []\n",
    "    m = 0\n",
    "    \n",
    "    costs = []\n",
    "    norm = []\n",
    "    y = y.reshape((len(y),1))\n",
    "    \n",
    "    #For each iteration\n",
    "    for k in tqdm(range(K), disable=tqdmSwitch):\n",
    "        \n",
    "        #Draw random sample with replacement\n",
    "        idx = np.random.randint(0,len(y))\n",
    "        xx = x[idx]\n",
    "        yy = y[idx]\n",
    "        \n",
    "        #Fixed learning rate\n",
    "        a = eta\n",
    "        \n",
    "        #Make prediction\n",
    "        y_pred = xx@w\n",
    "\n",
    "        #Check if data point has been seen\n",
    "        if idx not in idxs:\n",
    "            idxs += [idx]\n",
    "            m += 1\n",
    "        \n",
    "        #Calculate current gradient\n",
    "        grad = (xx*(y_pred-yy)).reshape((x.shape[1],1))\n",
    "        #Update gradient table\n",
    "        G = G - g[idx] + grad\n",
    "        #Update previous sample gradient\n",
    "        g[idx] = grad\n",
    "        #Update weights\n",
    "        w = w - a*(G/m + L*w)\n",
    "\n",
    "        #Compute cost\n",
    "        pred = x@w\n",
    "        costs += [mean_squared_error(y, pred, squared=False)/x.shape[0]]\n",
    "        \n",
    "    if q != None:\n",
    "        q.put([w, b, np.array(costs)])\n",
    "        \n",
    "    return w, b, np.array(costs)\n",
    "\n",
    "def Linear_Regression_SAGA(x, y, eta, K, L=0, q=None):\n",
    "    #Initialize weights and bias\n",
    "    b = 0\n",
    "    w = np.zeros([x.shape[1],1])\n",
    "    g = np.zeros((x.shape[0], x.shape[1],1)) #Gradient table\n",
    "    G = np.zeros_like(w) #Gradient table sum\n",
    "    idxs = []\n",
    "    m = 0\n",
    "    \n",
    "    costs = []\n",
    "    norm = []\n",
    "    y = y.reshape((len(y),1))\n",
    "    \n",
    "    #For each iteration\n",
    "    for k in tqdm(range(K), disable=tqdmSwitch):\n",
    "        \n",
    "        #Draw random sample with replacement\n",
    "        idx = np.random.randint(0,len(y))\n",
    "        xx = x[idx]\n",
    "        yy = y[idx]\n",
    "        \n",
    "        #Fixed learning rate\n",
    "        a = eta\n",
    "        \n",
    "        #Make prediction\n",
    "        y_pred = xx@w\n",
    "\n",
    "        #Check if data point has been seen\n",
    "        if idx not in idxs:\n",
    "            idxs += [idx]\n",
    "            m += 1\n",
    "        \n",
    "         #Calculate current gradient\n",
    "        grad = (xx*(y_pred-yy)).reshape((x.shape[1],1))\n",
    "        #Update weights\n",
    "        w = w - a*((grad - g[idx] + G/m) + L*w)\n",
    "        #Update gradient table\n",
    "        G = G - g[idx] + grad\n",
    "        #Update previous sample gradient\n",
    "        g[idx] = grad\n",
    "\n",
    "        #Compute cost\n",
    "        pred = x@w\n",
    "        costs += [mean_squared_error(y, pred, squared=False)/x.shape[0]]\n",
    "        \n",
    "    if q != None:\n",
    "        q.put([w, b, np.array(costs)])\n",
    "        \n",
    "    return w, b, np.array(costs)\n"
   ]
  },
  {
   "cell_type": "code",
   "execution_count": 4,
   "metadata": {},
   "outputs": [],
   "source": [
    "X_train, X_test, y_train, y_test = train_test_split(X, y, test_size=0.9, shuffle=False)"
   ]
  },
  {
   "cell_type": "code",
   "execution_count": 6,
   "metadata": {},
   "outputs": [
    {
     "data": {
      "application/vnd.jupyter.widget-view+json": {
       "model_id": "73b373272aa540169284e7e6a484e0df",
       "version_major": 2,
       "version_minor": 0
      },
      "text/plain": [
       "HBox(children=(HTML(value=''), FloatProgress(value=0.0, max=100000.0), HTML(value='')))"
      ]
     },
     "metadata": {},
     "output_type": "display_data"
    },
    {
     "name": "stdout",
     "output_type": "stream",
     "text": [
      "\n"
     ]
    },
    {
     "data": {
      "application/vnd.jupyter.widget-view+json": {
       "model_id": "0c5ef61b2c5e47de8ed5044b287ab2b9",
       "version_major": 2,
       "version_minor": 0
      },
      "text/plain": [
       "HBox(children=(HTML(value=''), FloatProgress(value=0.0, max=100000.0), HTML(value='')))"
      ]
     },
     "metadata": {},
     "output_type": "display_data"
    },
    {
     "name": "stdout",
     "output_type": "stream",
     "text": [
      "\n"
     ]
    },
    {
     "data": {
      "application/vnd.jupyter.widget-view+json": {
       "model_id": "4205531340b24cedba603333bad60e19",
       "version_major": 2,
       "version_minor": 0
      },
      "text/plain": [
       "HBox(children=(HTML(value=''), FloatProgress(value=0.0, max=100000.0), HTML(value='')))"
      ]
     },
     "metadata": {},
     "output_type": "display_data"
    },
    {
     "name": "stdout",
     "output_type": "stream",
     "text": [
      "\n"
     ]
    }
   ],
   "source": [
    "w1, _, costs1 = Linear_Regression_SGD(X_train, y_train, 1e-10, 100000)\n",
    "w2, _, costs2 = Linear_Regression_SAG(X_train, y_train, 1e-10, 100000)\n",
    "w3, _, costs3 = Linear_Regression_SAGA(X_train, y_train, 1e-10, 100000)"
   ]
  },
  {
   "cell_type": "code",
   "execution_count": 7,
   "metadata": {},
   "outputs": [
    {
     "data": {
      "image/png": "[encoded data removed]",
      "text/plain": [
       "<Figure size 576x432 with 1 Axes>"
      ]
     },
     "metadata": {
      "needs_background": "light"
     },
     "output_type": "display_data"
    }
   ],
   "source": [
    "plt.plot(np.arange(len(costs1)), costs1, label=\"SGD\")\n",
    "plt.plot(np.arange(len(costs2)), costs2, label=\"SAG\")\n",
    "plt.plot(np.arange(len(costs3)), costs3, label=\"SAGA\")\n",
    "plt.xlabel(\"Iterations\")\n",
    "plt.ylabel(\"Squared Loss\")\n",
    "plt.title(\"Iterations vs Loss\")\n",
    "plt.legend()\n",
    "plt.yscale(\"log\")"
   ]
  },
  {
   "cell_type": "code",
   "execution_count": null,
   "metadata": {},
   "outputs": [],
   "source": []
  }
 ],
 "metadata": {
  "kernelspec": {
   "display_name": "Python 3",
   "language": "python",
   "name": "python3"
  },
  "language_info": {
   "codemirror_mode": {
    "name": "ipython",
    "version": 3
   },
   "file_extension": ".py",
   "mimetype": "text/x-python",
   "name": "python",
   "nbconvert_exporter": "python",
   "pygments_lexer": "ipython3",
   "version": "3.8.5"
  }
 },
 "nbformat": 4,
 "nbformat_minor": 5
}
